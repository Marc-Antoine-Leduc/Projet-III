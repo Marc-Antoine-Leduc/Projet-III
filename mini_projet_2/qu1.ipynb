{
 "cells": [
  {
   "cell_type": "markdown",
   "metadata": {},
   "source": [
    "### Pour n=0\n",
    "En notant $\\omega := \\frac{d\\theta}{dt}$, on obtient \n",
    "\\begin{align*}\n",
    "&\\frac{d\\omega}{dt}+\\beta\\omega+\\frac{g}{L}\\sin\\theta = 0\\\\\n",
    "&\\frac{d\\omega}{dt} = -\\beta\\omega-\\frac{g}{L}\\sin\\theta\n",
    "\\end{align*}\n",
    "La méthode d'Euler explicite consiste à utiliser la formule de différence finie avant pour la dérivée première. Celle-ci est \n",
    "\\begin{align*}\n",
    "\\omega_n = \\theta^\\prime &= \\frac{\\theta_{n+1}-\\theta_{n}}{\\Delta t}\n",
    "\\end{align*}\n",
    "Ainsi, on a \n",
    "\\begin{align*}\n",
    "\\omega_n &= \\frac{\\theta_{n+1}-\\theta_n}{\\Delta t}\\\\\n",
    "\\Rightarrow \\theta_{n+1} &= \\theta_n + \\Delta t(\\omega_n)\n",
    "\\end{align*}\n",
    "Et\n",
    "\\begin{align*}\n",
    "\\omega^\\prime &= \\frac{\\omega_{n+1}-\\omega_n}{\\Delta t} = -\\beta\\omega_n-\\frac{g}{L}\\sin\\theta_n\\\\\n",
    "\\Rightarrow \\omega_{n+1} &= \\omega_n + \\Delta t \\left(\\omega^\\prime\\right)\\\\\n",
    "\\Rightarrow \\omega_{n+1} &= \\omega_n + \\Delta t \\left(-\\beta\\omega_n-\\frac{g}{L}\\sin\\theta_n\\right)\n",
    "\\end{align*}\n",
    "Prenons maintenant $n=0$ dans les équation précédantes afin de trouver une équation pour $\\theta_1$.\n",
    "\\begin{align*}\n",
    "\\theta_1 &= \\theta_0 + \\Delta t(\\omega_0)\\\\\n",
    "\\omega_{1} &= \\omega_0 + \\Delta t \\left(-\\beta\\omega_0-\\frac{g}{L}\\sin\\theta_0\\right)\\\\\n",
    "\\Rightarrow \\theta_1 &= \\theta_0 + \\Delta t \\left[\\omega_0 + \\Delta t \\left(-\\beta\\omega_0-\\frac{g}{L}\\sin\\theta_0\\right)\\right]\\\\\n",
    "\\Rightarrow \\theta_1 &= \\theta_0 + \\Delta t\\omega_0 - \\Delta t^2\\beta\\omega_0-\\Delta t^2 \\frac{g}{L}\\sin\\theta_0\\\\\n",
    "\\Rightarrow \\theta_1 &= \\theta_0 + \\left(1-\\frac{\\beta\\Delta t}{2}\\right)\\omega_0\\Delta t - \\left(\\frac{g}{2L}\\Delta t^2\\right)\\sin\\theta_0\\\\\n",
    "&\\;\\;\\;\\;\\;\\;\\;\\;\\;\\;\\;\\;\\;\\;\\;\\;\\;\\;\\;\\;\\;\\;\\;\\;\\;\\;\\;\\;\\text{CQFD}\n",
    "\\end{align*}\n",
    "L'ordre de convergence pour les formules de différences avant est de 2.\n",
    "\n",
    "### Pour n > 0\n",
    "Pour avoir la formule générale, on utilise les formules de différence finies centrées. Elles sont\n",
    "\\begin{align*}\n",
    "\\theta^\\prime &= \\frac{\\theta_{n+1}-\\theta_{n-1}}{2\\Delta t} \\\\\n",
    "\\theta^{\\prime\\prime} &= \\frac{\\theta_{n+1}-2\\theta_n+\\theta_{n-1}}{\\Delta t^2} \n",
    "\\end{align*}\n",
    "Ainsi, en insérant ces équations dans l'équation différentielle (1), on obtient\n",
    "\\begin{align*}\n",
    "&\\theta^{\\prime\\prime}+\\beta\\theta^{\\prime}+\\frac{g}{L}\\sin\\theta_n = 0\\\\\n",
    "&\\frac{\\theta_{n+1}-2\\theta_n+\\theta_{n-1}}{\\Delta t^2} +\\beta\\frac{\\theta_{n+1}-\\theta_{n-1}}{2\\Delta t}+\\frac{g}{L}\\sin\\theta_n = 0\\\\\n",
    "&\\frac{2\\theta_{n+1}-4\\theta_n+2\\theta_{n-1}}{2\\Delta t^2} +\\frac{\\beta\\Delta t\\theta_{n+1}-\\beta\\Delta t\\theta_{n-1}}{2\\Delta t^2}+\\frac{2\\Delta t^2g}{2L\\Delta t^2}\\sin\\theta_n = 0\\\\\n",
    "&\\frac{\\left(2+\\beta\\Delta t\\right)\\theta_{n+1}-4\\theta_n+\\left(2-\\beta\\Delta t\\right)\\theta_{n-1}+\\frac{2\\Delta t^2g}{L}\\sin\\theta_n}{2\\Delta t^2} = 0\\\\\n",
    "&\\left(2+\\beta\\Delta t\\right)\\theta_{n+1} = 4\\theta_n-\\left(2-\\beta\\Delta t\\right)\\theta_{n-1}-\\frac{2g}{L}\\Delta t^2\\sin\\theta_n\\\\\n",
    "&\\theta_{n+1} = \\frac{4\\theta_n-\\left(2-\\beta\\Delta t\\right)\\theta_{n-1}-\\frac{2g}{L}\\Delta t^2\\sin\\theta_n}{\\left(2+\\beta\\Delta t\\right)},\\;\\;\\;n=1,2,...\\\\\n",
    "&\\;\\;\\;\\;\\;\\;\\;\\;\\;\\;\\;\\;\\;\\;\\;\\;\\;\\;\\;\\;\\;\\;\\;\\;\\;\\;\\;\\;\\;\\;\\;\\;\\;\\;\\;\\;\\;\\;\\;\\text{CQFD}\n",
    "\\end{align*}\n",
    "L'ordre de convergence pour les formules de différences centrées est de 2.\n"
   ]
  }
 ],
 "metadata": {
  "language_info": {
   "name": "python"
  }
 },
 "nbformat": 4,
 "nbformat_minor": 2
}
