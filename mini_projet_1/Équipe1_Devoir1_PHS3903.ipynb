{
 "cells": [
  {
   "cell_type": "markdown",
   "id": "5d2dbd6f-f654-44e0-8eb0-85b694d634d6",
   "metadata": {},
   "source": [
    "<div style=\"text-align: center; font-family: Arial, sans-serif; margin-top: 50px;\">\n",
    "<h1 style=\"font-size: 36px; font-weight: bold; color: #4CAF50;\">Mini-projet 1 - Méthode Monte Carlo</h1>\n",
    "<h2 style=\"font-size: 20px; font-weight: bold; color: #4CAF50;\">PHS3903</h2>\n",
    "<h2 style=\"font-size: 20px; margin-bottom: 20px;\">[Harbec/William, Leduc/Marc-Antoine, St-Onge/Émily]</h2>\n",
    "<h2 style=\"font-size: 16px; margin-bottom: 10px;\">[2215754, 2198586, 2134102]</h2>\n",
    "<h2 style=\"font-size: 16px; margin-bottom: 10px;\">[22 janvier 2025]</h2>\n",
    "<h2 style=\"font-size: 16px; margin-bottom: 10px;\">[Jérémie Villeneuve, Sean Molesky, Maksim Skorobogatiy]</h2>\n",
    "</div>\n"
   ]
  },
  {
   "cell_type": "markdown",
   "id": "b5342eb4-aaa2-4884-b2a3-b735d5a63060",
   "metadata": {},
   "source": [
    "### Calcul du volume d'une $N$-sphère (20 points)"
   ]
  },
  {
   "cell_type": "markdown",
   "id": "a19d7970-749f-4fa1-bbea-ef4f244648ec",
   "metadata": {},
   "source": [
    "### Introduction\n",
    "Une $N$-sphère de rayon $R$ est définie comme l'ensemble des points situés à une distance inférieure ou égale à $R$ de l'origine dans un espace à $N$ dimensions. Si on utilise les coordonnées cartésiennes $(x_1, x_2, \\dots, x_N)$ pour décrire un point, alors ce point est situé à l'intérieur de la $N$-sphère si le critère suivant est respecté :\n",
    "\n",
    "$$\n",
    "\\sum_{i=1}^{N} x_i^2 \\leq R^2, \\quad N=1,2,\\dots\n",
    "$$\n",
    "\n",
    "Voici quelques exemples de $N$-sphères afin de clarifier ce concept :\n",
    "* Une 3-sphère est la sphère habituelle en trois dimensions. Son volume est la boule dont la sphère est le contour.\n",
    "* Une 2-sphère est un cercle. Son volume est l'aire du disque circonscrit par le cercle.\n",
    "* Une 1-sphère est formée de deux points sur une droite qui sont situés à égale distance de l'origine. Son volume est défini comme la longueur du segment.\n",
    "\n",
    "Ce concept peut sembler abstrait, mais il apparaît naturellement en physique statistique quand on travaille dans l'espace de phase pour étudier les propriétés d'un ensemble de $N$ particules avec une énergie fixe (ex. : gaz idéal dans une boîte fermée). \n",
    "\n",
    "Dans ce mini-devoir, on vous demande de calculer le volume d'une $N$-sphère de rayon unitaire $R=1$ à l'aide de la méthode de Monte-Carlo vue en classe pour le calcul d'intégrales. Le résultat est déjà connu, à savoir :\n",
    "\n",
    "$$\n",
    "V_N = \\frac{\\pi^{N/2}}{\\Gamma\\left(\\frac{N}{2} + 1\\right)},\n",
    "$$\n",
    "où $\\Gamma(x)$ est la fonction gamma, ce qui vous permettra de calculer l'erreur afin d'analyser le comportement de l'algorithme."
   ]
  },
  {
   "cell_type": "markdown",
   "id": "b5342eb4-aaa2-4884-b2a3-b735d5a63061",
   "metadata": {},
   "source": [
    "### Choix de la méthode de Monte-Carlo"
   ]
  },
  {
   "cell_type": "markdown",
   "id": "a19d7970-749f-4fa1-bbea-ef4f244648ed",
   "metadata": {},
   "source": [
    "**a) [4 pts]** Expliquer pourquoi les méthodes de Monte Carlo pour l'intégration sont avantageuses pour le calcul d'intégrales à $N$ dimensions lorsque $N$ devient grand."
   ]
  },
  {
   "cell_type": "markdown",
   "id": "empty-cell-answer-a",
   "metadata": {},
   "source": [
    "### Réponse a):\n",
    "*(Ajoutez votre réponse ici)*"
   ]
  },
  {
   "cell_type": "markdown",
   "id": "b5342eb4-aaa2-4884-b2a3-b735d5a63062",
   "metadata": {},
   "source": [
    "### Calcul du volume"
   ]
  },
  {
   "cell_type": "markdown",
   "id": "a19d7970-749f-4fa1-bbea-ef4f244648ee",
   "metadata": {},
   "source": [
    "**b) [6 pts]** Calculer le volume d'une $N$-sphère de rayon unitaire pour $N = \\left\\{3,6\\right\\}$. Pour chacune de ces $N$-sphères, calculer le résultat en faisant varier le nombre de points générés à chaque essai en utilisant les valeurs $N_{tot} = \\left\\{100,200,400,800,1600\\right\\}$. Générer 100 essais par simulation et utiliser la valeur moyenne du volume comme résultat. On vous demande donc de calculer dix valeurs de volume (cinq par $N$-sphère).\n",
    "\n",
    "Présenter vos résultats sous forme de tableau, en fournissant une incertitude relative sur chaque résultat. Expliquer comment cette incertitude a été calculée."
   ]
  },
  {
   "cell_type": "markdown",
   "id": "empty-cell-answer-b",
   "metadata": {},
   "source": [
    "### Réponse b):\n",
    "*(Ajoutez votre réponse ici)*"
   ]
  },
  {
   "cell_type": "code",
   "execution_count": null,
   "id": "1a01ac1e-9ae8-4847-8e19-f8fe8705b7f5",
   "metadata": {},
   "outputs": [
    {
     "name": "stdout",
     "output_type": "stream",
     "text": [
      "Volume théorique pour D=3: 4.18879\n",
      "Volume théorique pour D=6: 5.16771\n",
      "\n",
      "Résultats :\n",
      "\n",
      "Dimension D=3\n",
      "      Ntot       Volume (moyen)     Incertitude\n",
      "       100              4.15200         0.04158\n",
      "       200              4.20000         0.03089\n",
      "       400              4.18300         0.02060\n",
      "       800              4.19130         0.01390\n",
      "      1600              4.18255         0.00936\n",
      "\n",
      "Dimension D=6\n",
      "      Ntot       Volume (moyen)     Incertitude\n",
      "       100              5.29280         0.15329\n",
      "       200              5.13600         0.12487\n",
      "       400              5.01440         0.09133\n",
      "       800              5.23680         0.06014\n",
      "      1600              5.16400         0.04143\n",
      "L'incertitude est calculée comme l'erreur-type de la moyenne sur les 100 essais: STD/sqrt(N_ess)\n"
     ]
    }
   ],
   "source": [
    "import numpy as np\n",
    "from scipy.special import gamma\n",
    "\n",
    "R = 1.0  # Rayon de la N-sphère (m)\n",
    "\n",
    "D_val = [3, 6]  # Dimensions des N-sphères\n",
    "Ntot_val = [100, 200, 400, 800, 1600]  # Nombre de points par essai\n",
    "Ness = 100  # Nombre d'essais par simulation\n",
    "\n",
    "V_moyens = np.zeros((len(D_val), len(Ntot_val)))  # Volume moyen pour chaque dimension et Ntot\n",
    "V_inc = np.zeros((len(D_val), len(Ntot_val)))  # Incertitudes pour chaque dimension et Ntot\n",
    "E_monte_carlo = np.zeros((len(D_val), len(Ntot_val)))  # Erreurs Monte-Carlo pour chaque dimension et Ntot\n",
    "\n",
    "def volume_theorique(N, R):\n",
    "    return (np.pi**(N/2) * R**N) / gamma(N/2 + 1)\n",
    "\n",
    "for d_idx, D in enumerate(D_val):\n",
    "    V_theorique = volume_theorique(D, R)\n",
    "    print(f\"Volume théorique pour D={D}: {V_theorique:.5f}\")\n",
    "\n",
    "    for n_idx, Ntot in enumerate(Ntot_val):\n",
    "        volumes = np.zeros(Ness)  \n",
    "        erreurs = np.zeros(Ness)  \n",
    "        \n",
    "        for k in range(Ness): \n",
    "            # Génération de points aléatoires dans le cube [-1, 1]^D\n",
    "            points = np.random.uniform(low=-1, high=1, size=(Ntot, D))\n",
    "            \n",
    "            # Calcul du nombre de points à l'intérieur de la N-sphère\n",
    "            distances = np.sum(points**2, axis=1)\n",
    "            Nint = np.sum(distances <= R**2)\n",
    "            \n",
    "            # Calcul du volume estimé pour cet essai\n",
    "            volumes[k] = (Nint / Ntot) * (2 * R)**D\n",
    "            # Calcul de l'erreur pour cet essai\n",
    "            erreurs[k] = abs((Nint / Ntot) * (2 * R)**D - V_theorique)  # Cube de côté 2*1\n",
    "        \n",
    "        # Calcul de la moyenne et de l'incertitude\n",
    "        V_moyens[d_idx, n_idx] = np.mean(volumes)\n",
    "        V_inc[d_idx, n_idx] = np.std(volumes) / np.sqrt(Ness) \n",
    "        E_monte_carlo[d_idx, n_idx] = np.mean(erreurs)\n",
    "\n",
    "\n",
    "print(\"\\nRésultats :\")\n",
    "for d_idx, D in enumerate(D_val):\n",
    "    print(f\"\\nDimension D={D}\")\n",
    "    print(f\"{'Ntot':>10} {'Volume (moyen)':>20} {'Incertitude':>15}\")\n",
    "    for n_idx, Ntot in enumerate(Ntot_val):\n",
    "        print(f\"{Ntot:>10} {V_moyens[d_idx, n_idx]:>20.5f} {V_inc[d_idx, n_idx]:>15.5f}\")\n",
    "\n",
    "print(\"L'incertitude est calculée comme l'erreur-type de la moyenne sur les 100 essais: STD/sqrt(N_ess)\")\n"
   ]
  },
  {
   "cell_type": "markdown",
   "id": "empty-cell-answer-d",
   "metadata": {},
   "source": [
    "### Réponse c):\n",
    "*(Ajoutez votre réponse ici)*"
   ]
  },
  {
   "cell_type": "markdown",
   "id": "b5342eb4-aaa2-4884-b2a3-b735d5a63063",
   "metadata": {},
   "source": [
    "### Analyse de l'erreur"
   ]
  },
  {
   "cell_type": "markdown",
   "id": "a19d7970-749f-4fa1-bbea-ef4f244648ef",
   "metadata": {},
   "source": [
    "**c) [4 pts]** À l'aide des résultats précédents obtenus, tracer un graphique de l'erreur relative $E$ sur le volume calculé en fonction de $N_{tot}$ pour chaque $N$-sphère. (Vous tracerez donc deux séries de données sur le même graphique.) Utiliser une échelle qui permet de représenter facilement le comportement de l'erreur."
   ]
  },
  {
   "cell_type": "code",
   "execution_count": null,
   "id": "2084766b-55f3-4f0b-9079-4f74716b835e",
   "metadata": {},
   "outputs": [],
   "source": [
    "import matplotlib.pyplot as plt\n",
    "\n",
    "plt.figure(figsize=(10, 6))\n",
    "\n",
    "for d_idx, D in enumerate(D_val):\n",
    "    plt.plot(Ntot_val, E_monte_carlo[d_idx], marker='o', label=f'D = {D}')\n",
    "\n",
    "plt.xscale('log')  \n",
    "plt.yscale('log') \n",
    "plt.xlabel('$N_{tot}$ (nombre de points)', fontsize=12)\n",
    "plt.ylabel('Erreur relative $E$', fontsize=12)\n",
    "plt.title('Erreur relative $E$ en fonction de $N_{tot}$ pour chaque $N$-sphère', fontsize=14)\n",
    "plt.legend(fontsize=12)\n",
    "plt.grid(True, which=\"both\", linestyle='--', linewidth=0.5)\n",
    "plt.tight_layout()\n",
    "\n",
    "plt.show()"
   ]
  },
  {
   "cell_type": "markdown",
   "id": "empty-cell-answer-c",
   "metadata": {},
   "source": [
    "### Réponse c):\n",
    "*(Ajoutez votre réponse ici)*"
   ]
  },
  {
   "cell_type": "markdown",
   "id": "a19d7970-749f-4fa1-bbea-ef4f244648eg",
   "metadata": {},
   "source": [
    "**d) [2 pts]** Déterminer le comportement de l'erreur relative en calculant l'exposant $p$ tel que :\n",
    "\n",
    "$$\n",
    "E = O(N_{tot}^p)\n",
    "$$\n",
    "pour chacune des deux $N$-sphères."
   ]
  },
  {
   "cell_type": "code",
   "execution_count": null,
   "id": "5aa9b53c-4a67-4d18-878e-8719fd4b5776",
   "metadata": {},
   "outputs": [],
   "source": []
  },
  {
   "cell_type": "markdown",
   "id": "6819092f",
   "metadata": {},
   "source": [
    "### Réponse d):\n",
    "*(Ajoutez votre réponse ici)*"
   ]
  },
  {
   "cell_type": "markdown",
   "id": "a19d7970-749f-4fa1-bbea-ef4f244648eh",
   "metadata": {},
   "source": [
    "**e) [4 pts]** Discuter des points suivants :\n",
    "* Comment les valeurs de $p$ calculées se comparent-t-elle aux valeurs théoriques attendues ?\n",
    "* La précision des résultats obtenus est-elle la même pour la 3-sphère et pour la 6-sphère ?\n",
    "* Comment l'incertitude relative calculée en (b) se compare-t-elle à l'erreur relative ?"
   ]
  },
  {
   "cell_type": "markdown",
   "id": "empty-cell-answer-e",
   "metadata": {},
   "source": [
    "### Réponse e):\n",
    "*(Ajoutez votre réponse ici)*"
   ]
  }
 ],
 "metadata": {
  "kernelspec": {
   "display_name": "base",
   "language": "python",
   "name": "python3"
  },
  "language_info": {
   "codemirror_mode": {
    "name": "ipython",
    "version": 3
   },
   "file_extension": ".py",
   "mimetype": "text/x-python",
   "name": "python",
   "nbconvert_exporter": "python",
   "pygments_lexer": "ipython3",
   "version": "3.11.7"
  }
 },
 "nbformat": 4,
 "nbformat_minor": 5
}
